{
 "cells": [
  {
   "cell_type": "markdown",
   "metadata": {},
   "source": [
    "# Desafio 1 - Micael Costa Amorim"
   ]
  },
  {
   "cell_type": "markdown",
   "metadata": {},
   "source": [
    "### Conjectura de Legendre\n",
    "\n",
    "A Conjectura de Legendre, enunciada por de Adrien-Marie Legendre, afirma que existe sempre um número primo entre $n^2 $ e $(n+1)^2$, para qualquer $n$ inteiro positivo\n",
    "\n",
    "Seu desafio será criar uma função que, dado um input (inteiro n) retorne todos os números primos entre $n^2$ e $(n+1)^2$. \n",
    "\n",
    "Exemplo:\n",
    "\n",
    "    > input: 4\n",
    "    \n",
    "    > output: [17,19,23]"
   ]
  },
  {
   "cell_type": "code",
   "execution_count": null,
   "metadata": {},
   "outputs": [],
   "source": [
    "def isprime(n):\n",
    "    \"\"\"\n",
    "    Esta função verifica se um número é ou não primo\n",
    "    \"\"\"\n",
    "    # TODO: implemente uma função que retorne TRUE se um número é ou não primo\n",
    "    if n == 0:\n",
    "        return False\n",
    "    elif n == 1:\n",
    "        return True\n",
    "    else:\n",
    "        for i in range(2, n):\n",
    "            if (n % i) == 0:\n",
    "                return False\n",
    "\n",
    "    return True"
   ]
  },
  {
   "cell_type": "code",
   "execution_count": null,
   "metadata": {},
   "outputs": [],
   "source": [
    "import numpy as np\n",
    "\n",
    "def LegendreConjecture(n):\n",
    "    \"\"\"\n",
    "    Esta função calcula a conjectura de Legendre, como descrita acima\n",
    "    \"\"\"\n",
    "    # TODO: implemente uma função que retorne uma lista contendo os números primos entre n^2 e (n+1)^2\n",
    "    list_num = range(n**2, ((n + 1) ** 2))\n",
    "    list_prime = []\n",
    "    \n",
    "    for num in list_num:\n",
    "        if(isprime(num)):\n",
    "            list_prime.append(num)\n",
    "            \n",
    "    return list_prime"
   ]
  },
  {
   "cell_type": "code",
   "execution_count": null,
   "metadata": {},
   "outputs": [],
   "source": [
    "number = int(input('Entre com um número: '))\n",
    "print('O resultado de Legendre Conjecture de %d é %s' % (number, LegendreConjecture(number)))"
   ]
  },
  {
   "cell_type": "markdown",
   "metadata": {},
   "source": [
    "## Classe de leitura de arquivo\n",
    "\n",
    "Crie uma classe que\n",
    "\n",
    "        > crie um método que tenta ler um arquivo de texto (.txt)\n",
    "        > crie um método usando regex para extrair datas do texto. Considere apenas os dois tipos: dd/mm/aaaa e d/m/aa\n",
    "        > crie um método que utilize Counter para contar a quantidade de cada caracter"
   ]
  },
  {
   "cell_type": "code",
   "execution_count": null,
   "metadata": {},
   "outputs": [],
   "source": [
    "import sys\n",
    "import os.path\n",
    "import re\n",
    "from collections import Counter\n",
    "\n",
    "class ExtractTextInformation():\n",
    "    \"\"\"classe que extrai informações de um texto.\n",
    "    \n",
    "    implementa o método __init__ e os três métodos acima mencionados \"\"\"\n",
    "    def __init__(self, name_file):\n",
    "        \"\"\"\n",
    "            Recebe o nome do arquivo a ser lido\n",
    "        \"\"\"\n",
    "        self.filename = name_file\n",
    "        \n",
    "    def extract_date(self, text):\n",
    "        \"\"\"\n",
    "            Cria a validação dos dois formatos de data possíveis dd/mm/aaaa e d/m/aa\n",
    "            e adiciona a lista para retorno\n",
    "            \n",
    "            Obs. para professor: não consegui deixar na mesma regra do regex os dois formatos esperados de data\n",
    "        \"\"\"\n",
    "        rexformat1 = re.compile(r'(\\d{2}\\/\\d{2}\\/\\d{4})')\n",
    "        rexformat2 = re.compile(r'(\\d{1}\\/\\d{1}\\/\\d{2})')\n",
    "        \n",
    "        dates = []\n",
    "        for date in rexformat1.findall(text):\n",
    "            dates.append(date)\n",
    "        \n",
    "        for date in rexformat2.findall(text):\n",
    "            dates.append(date)\n",
    "                \n",
    "        return dates\n",
    "    \n",
    "    def count_caracters(self, text):\n",
    "        \"\"\"\n",
    "            Retorna a qtd de cada caracter\n",
    "        \"\"\"\n",
    "        return Counter(text)\n",
    "    \n",
    "    def read_file(self):\n",
    "        \"\"\"\n",
    "            Retorna a qtd de cada caracter\n",
    "        \"\"\"\n",
    "        if not os.path.exists(self.filename):\n",
    "            print ('Arquivo não encontrado, tente outra vez...')\n",
    "            sys.exit()\n",
    "        \n",
    "        file = open(self.filename, 'r')\n",
    "        list_dates = []\n",
    "        caracteres = {}\n",
    "        \n",
    "        #Pode ser possível que o arquivo contenha mais de uma linha, por isso a decisão de usar um Loop\n",
    "        for line in file:\n",
    "            #Para a lista de datas retornadas adiciona a lista já existente com informações das outras linhas\n",
    "            for dates in self.extract_date(line):\n",
    "                list_dates.append(dates)\n",
    "                \n",
    "            #Com o dicionario retornado do Counter, adiciona a uma contagem já existente ou não daquele caracter conforme as linhas lidas\n",
    "            for key, value in self.count_caracters(line).items():\n",
    "                caracteres[key] = caracteres.get(key, 0) + value\n",
    "        \n",
    "        file.close()\n",
    "        \n",
    "        print('Datas extraídas => ', list_dates)\n",
    "        print('Count dos caracteres identificados => ', caracteres)\n",
    "        "
   ]
  },
  {
   "cell_type": "code",
   "execution_count": null,
   "metadata": {},
   "outputs": [],
   "source": [
    "#É esperado que o arquivo incluído esteja na mesma raiz deste arquivo\n",
    "file = input('Nome do arquivo: ').strip()\n",
    "extract = ExtractTextInformation(file)\n",
    "extract.read_file()"
   ]
  }
 ],
 "metadata": {
  "kernelspec": {
   "display_name": "Python 3",
   "language": "python",
   "name": "python3"
  },
  "language_info": {
   "codemirror_mode": {
    "name": "ipython",
    "version": 3
   },
   "file_extension": ".py",
   "mimetype": "text/x-python",
   "name": "python",
   "nbconvert_exporter": "python",
   "pygments_lexer": "ipython3",
   "version": "3.8.5"
  }
 },
 "nbformat": 4,
 "nbformat_minor": 4
}
